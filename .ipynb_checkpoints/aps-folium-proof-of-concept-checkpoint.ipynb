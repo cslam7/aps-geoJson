{
 "cells": [
  {
   "cell_type": "code",
   "execution_count": 11,
   "id": "a91c56a0",
   "metadata": {},
   "outputs": [],
   "source": [
    "import folium\n",
    "import geopandas as gpd\n",
    "# import branca\n",
    "\n",
    "# from turfpy.transformation import transform_rotate\n",
    "# from ipyleaflet import Map, GeoJSON, LayersControl"
   ]
  },
  {
   "cell_type": "code",
   "execution_count": 12,
   "id": "e260d3f9",
   "metadata": {},
   "outputs": [],
   "source": [
    "# def popup_html(layer_name, df_row, col_name):\n",
    "#     url_with_tags = \"<a href=\" + df_row[col_name] + \"</a>\"\n",
    "#     folium.Marker(popup=url_with_tags).add_to(layer_name)\n",
    "\n",
    "\n",
    "\n",
    "## This prints out url with concatenated tags for a html link to open in a new tab\n",
    "# url = \"https://cdb.aps.anl.gov/cdb/views/itemDomainLocation/view?id=105898\"\n",
    "# print(\"<a href=\" + url + \" target=_blank>Click Here for CDB URL</a>\")"
   ]
  },
  {
   "cell_type": "code",
   "execution_count": 13,
   "id": "a86f76a8",
   "metadata": {},
   "outputs": [
    {
     "data": {
      "text/plain": [
       "<folium.raster_layers.TileLayer at 0x22b999a3190>"
      ]
     },
     "execution_count": 13,
     "metadata": {},
     "output_type": "execute_result"
    }
   ],
   "source": [
    "# Add custom basemaps to folium\n",
    "basemaps = {\n",
    "    'Google Maps': folium.TileLayer(\n",
    "        tiles = 'https://mt1.google.com/vt/lyrs=m&x={x}&y={y}&z={z}',\n",
    "        attr = 'Google',\n",
    "        name = 'Google Maps',\n",
    "        overlay = True,\n",
    "        control = True\n",
    "    ),\n",
    "    'Google Satellite': folium.TileLayer(\n",
    "        tiles = 'https://mt1.google.com/vt/lyrs=s&x={x}&y={y}&z={z}',\n",
    "        attr = 'Google',\n",
    "        name = 'Google Satellite',\n",
    "        overlay = True,\n",
    "        control = True\n",
    "    )\n",
    "}\n",
    "\n",
    "# Create inital map and zoom in accordingly\n",
    "m = folium.Map(location=[41.703595, -87.988145], zoom_start=16)\n",
    "\n",
    "# Add custom basemaps\n",
    "basemaps['Google Maps'].add_to(m)\n",
    "basemaps['Google Satellite'].add_to(m)"
   ]
  },
  {
   "cell_type": "code",
   "execution_count": 14,
   "id": "11ff6ecb",
   "metadata": {},
   "outputs": [],
   "source": [
    "# Read in local paths for geojson files\n",
    "# buildings_path = r\"C:\\Users\\Cory's PC\\Desktop\\ANL\\aps-geoJson\\building-data.geojson\"\n",
    "# markers_path = r\"C:\\Users\\Cory's PC\\Desktop\\ANL\\aps-geoJson\\aps-markers-test.geojson\"\n",
    "# triangle_path = r\"C:\\Users\\Cory's PC\\Desktop\\ANL\\aps-geoJson\\map.geojson\"\n",
    "# floor_path = r\"C:\\Users\\Cory's PC\\Desktop\\ANL\\aps-geoJson\\sr-tunnel.geojson\"\n",
    "# sector_path = r\"C:\\Users\\Cory's PC\\Desktop\\ANL\\aps-geoJson\\exp-floor.geojson\"\n",
    "# tunnel_path = r\"C:\\Users\\Cory's PC\\Desktop\\ANL\\aps-geoJson\\sr-tunnel.geojson\"\n",
    "\n",
    "\"buildings_path = r'/home/cory/aps-geoJson/building-data.geojson'\\n\",\n",
    "\"markers_path = r'/home/cory/aps-geoJson/aps-markers-test.geojson'\\n\",\n",
    "\"triangle_path = r'/home/cory/aps-geoJson/map.geojson'\\n\",\n",
    "\"floor_path = r'/home/cory/aps-geoJson/sr-tunnel.geojson'\\n\",\n",
    "\"sector_path = r'/home/cory/aps-geoJson/exp-floor.geojson'\\n\",\n",
    "\"tunnel_path = r'/home/cory/aps-geoJson/sr-tunnel.geojson'\\n\",\n",
    "# Build dataframes for each geojson file\n",
    "buildings_df = gpd.read_file(buildings_path)\n",
    "# markers_df = gpd.read_file(markers_path)\n",
    "triangle_df = gpd.read_file(triangle_path)\n",
    "floor_df = gpd.read_file(floor_path)\n",
    "sector_df = gpd.read_file(sector_path)\n",
    "tunnel_df = gpd.read_file(tunnel_path)\n",
    "# rotate_df = triangle_df.rotate(angle=10, origin=[-87.98813939094543, 41.703529775181615])"
   ]
  },
  {
   "cell_type": "code",
   "execution_count": 15,
   "id": "e1028c2e",
   "metadata": {},
   "outputs": [],
   "source": [
    "# # Rotates sector accordingly, returns desired dataframe\n",
    "# def rotate_df(original_df, center_point, wedge_size, iter_num, total_angle):\n",
    "#     new_angle = iter_num * int(total_angle / wedge_size)\n",
    "#     new_df = original_df.rotate(angle=-7.5*(iter_num+1), origin=center_point)\n",
    "#     return new_df"
   ]
  },
  {
   "cell_type": "code",
   "execution_count": 16,
   "id": "f5099a04",
   "metadata": {
    "scrolled": true
   },
   "outputs": [],
   "source": [
    "# Add layers to map based off of each geojson file\n",
    "building_data = folium.GeoJson(buildings_path, name='Buildings').add_to(m)\n",
    "# markers_data = folium.GeoJson(markers_path, name='Test Markers').add_to(m)\n",
    "# triangle_data = folium.GeoJson(triangle_df, name='test triangles').add_to(m)\n",
    "# folium.GeoJson(rotate_df, name='rotate triangle').add_to(triangle_data)\n",
    "sector_data = folium.GeoJson(sector_df, name='Sectors').add_to(m)\n",
    "tunnel_data = folium.GeoJson(tunnel_df, name='SR Tunnel').add_to(m)\n",
    "exp_floor_chplth = folium.Choropleth(\n",
    "    geo_data=sector_path,\n",
    "    data=sector_df.iloc[:,5:7],\n",
    "    columns=[\"sector\", \"percent\"],\n",
    "    key_on='feature.properties.sector',\n",
    "    fill_color=\"YlGn\",\n",
    "    fill_opacity=0.7,\n",
    "    line_opacity=0.2,\n",
    "    legend_name=\"Progress Percentage (%)\",\n",
    "    name=\"Experimental Floor (Choropleth)\"\n",
    ").add_to(m)\n",
    "# Having trouble accounting for curves of lat/long\n",
    "# num_sectors = 40\n",
    "# for index in range(num_sectors):\n",
    "#     rotated_df = rotate_df(original_df=sector_df, center_point=[-87.98811793327332, 41.70351776000208],\n",
    "#                            wedge_size=40, iter_num=index, total_angle=300)\n",
    "    \n",
    "#     folium.GeoJson(rotated_df).add_to(sector_data)"
   ]
  },
  {
   "cell_type": "code",
   "execution_count": 17,
   "id": "b424bcbd",
   "metadata": {
    "scrolled": false
   },
   "outputs": [],
   "source": [
    "folium.GeoJsonTooltip(\n",
    "    fields=[\"location\", \"building\"]\n",
    ").add_to(building_data)\n",
    "# folium.GeoJsonTooltip(fields=[\"placement\"]).add_to(markers_data)\n",
    "\n",
    "folium.GeoJsonPopup(\n",
    "    fields=['url']\n",
    ").add_to(building_data)\n",
    "\n",
    "exp_floor_chplth.geojson.add_child(\n",
    "    folium.GeoJsonTooltip(fields=[\"sector\", \"percent\"])\n",
    ")\n",
    "\n",
    "folium.GeoJsonTooltip(\n",
    "    fields=[\"sector\", \"percent\"]\n",
    ").add_to(sector_data)\n",
    "# folium.GeoJsonPopup(fields=['url']).add_to(markers_data)\n",
    "# folium.GeoJsonPopup(\n",
    "#     fields=['test']\n",
    "# ).add_to(triangle_data)\n",
    "\n",
    "# print(sector_df)\n",
    "\n",
    "\n",
    "folium.LayerControl().add_to(m)\n",
    "\n",
    "# print(triangle_df)\n",
    "# print(\"stop\")\n",
    "# print(rotate_df)\n",
    "# cut_df = sector_df.iloc[:,5:7]\n",
    "# print(cut_df)\n",
    "m\n",
    "\n",
    "m.save(\"folium-test.html\")"
   ]
  },
  {
   "cell_type": "code",
   "execution_count": null,
   "id": "0e343088",
   "metadata": {},
   "outputs": [],
   "source": []
  },
  {
   "cell_type": "code",
   "execution_count": null,
   "id": "7bd45cdc",
   "metadata": {},
   "outputs": [],
   "source": []
  },
  {
   "cell_type": "code",
   "execution_count": null,
   "id": "315094ac",
   "metadata": {},
   "outputs": [],
   "source": []
  }
 ],
 "metadata": {
  "kernelspec": {
   "display_name": "Python 3 (ipykernel)",
   "language": "python",
   "name": "python3"
  },
  "language_info": {
   "codemirror_mode": {
    "name": "ipython",
    "version": 3
   },
   "file_extension": ".py",
   "mimetype": "text/x-python",
   "name": "python",
   "nbconvert_exporter": "python",
   "pygments_lexer": "ipython3",
   "version": "3.9.12"
  }
 },
 "nbformat": 4,
 "nbformat_minor": 5
}
