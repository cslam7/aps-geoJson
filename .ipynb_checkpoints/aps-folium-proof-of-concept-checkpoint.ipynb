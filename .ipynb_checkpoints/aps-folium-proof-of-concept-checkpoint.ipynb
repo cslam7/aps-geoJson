{
 "cells": [
  {
   "cell_type": "code",
   "execution_count": 1,
   "id": "a91c56a0",
   "metadata": {},
   "outputs": [],
   "source": [
    "import folium\n",
    "import geopandas as gpd\n",
    "# import branca\n",
    "\n",
    "# from turfpy.transformation import transform_rotate\n",
    "# from ipyleaflet import Map, GeoJSON, LayersControl"
   ]
  },
  {
   "cell_type": "code",
   "execution_count": 2,
   "id": "e260d3f9",
   "metadata": {},
   "outputs": [],
   "source": [
    "# def popup_html(layer_name, df_row, col_name):\n",
    "#     url_with_tags = \"<a href=\" + df_row[col_name] + \"</a>\"\n",
    "#     folium.Marker(popup=url_with_tags).add_to(layer_name)\n",
    "\n",
    "\n",
    "\n",
    "## This prints out url with concatenated tags for a html link to open in a new tab\n",
    "# url = \"https://cdb.aps.anl.gov/cdb/views/itemDomainLocation/view?id=105898\"\n",
    "# print(\"<a href=\" + url + \" target=_blank>Click Here for CDB URL</a>\")"
   ]
  },
  {
   "cell_type": "code",
   "execution_count": 3,
   "id": "a86f76a8",
   "metadata": {},
   "outputs": [
    {
     "data": {
      "text/plain": [
       "<folium.raster_layers.TileLayer at 0x22bfe82bc10>"
      ]
     },
     "execution_count": 3,
     "metadata": {},
     "output_type": "execute_result"
    }
   ],
   "source": [
    "# Add custom basemaps to folium\n",
    "basemaps = {\n",
    "    'Google Maps': folium.TileLayer(\n",
    "        tiles = 'https://mt1.google.com/vt/lyrs=m&x={x}&y={y}&z={z}',\n",
    "        attr = 'Google',\n",
    "        name = 'Google Maps',\n",
    "        overlay = True,\n",
    "        control = True\n",
    "    ),\n",
    "    'Google Satellite': folium.TileLayer(\n",
    "        tiles = 'https://mt1.google.com/vt/lyrs=s&x={x}&y={y}&z={z}',\n",
    "        attr = 'Google',\n",
    "        name = 'Google Satellite',\n",
    "        overlay = True,\n",
    "        control = True\n",
    "    )\n",
    "}\n",
    "\n",
    "# Create inital map and zoom in accordingly\n",
    "m = folium.Map(location=[41.703595, -87.988145], zoom_start=16)\n",
    "\n",
    "# Add custom basemaps\n",
    "basemaps['Google Maps'].add_to(m)\n",
    "basemaps['Google Satellite'].add_to(m)"
   ]
  },
  {
   "cell_type": "code",
   "execution_count": 6,
   "id": "11ff6ecb",
   "metadata": {},
   "outputs": [
    {
     "ename": "DriverError",
     "evalue": "C:\\Users\\Cory's PC\\Desktop\\ANL\\building-data.geojson: No such file or directory",
     "output_type": "error",
     "traceback": [
      "\u001b[1;31m---------------------------------------------------------------------------\u001b[0m",
      "\u001b[1;31mCPLE_OpenFailedError\u001b[0m                      Traceback (most recent call last)",
      "File \u001b[1;32mfiona\\_shim.pyx:83\u001b[0m, in \u001b[0;36mfiona._shim.gdal_open_vector\u001b[1;34m()\u001b[0m\n",
      "File \u001b[1;32mfiona\\_err.pyx:291\u001b[0m, in \u001b[0;36mfiona._err.exc_wrap_pointer\u001b[1;34m()\u001b[0m\n",
      "\u001b[1;31mCPLE_OpenFailedError\u001b[0m: C:\\Users\\Cory's PC\\Desktop\\ANL\\building-data.geojson: No such file or directory",
      "\nDuring handling of the above exception, another exception occurred:\n",
      "\u001b[1;31mDriverError\u001b[0m                               Traceback (most recent call last)",
      "Input \u001b[1;32mIn [6]\u001b[0m, in \u001b[0;36m<cell line: 10>\u001b[1;34m()\u001b[0m\n\u001b[0;32m      7\u001b[0m tunnel_path \u001b[38;5;241m=\u001b[39m \u001b[38;5;124mr\u001b[39m\u001b[38;5;124m\"\u001b[39m\u001b[38;5;124mC:\u001b[39m\u001b[38;5;124m\\\u001b[39m\u001b[38;5;124mUsers\u001b[39m\u001b[38;5;124m\\\u001b[39m\u001b[38;5;124mCory\u001b[39m\u001b[38;5;124m'\u001b[39m\u001b[38;5;124ms PC\u001b[39m\u001b[38;5;124m\\\u001b[39m\u001b[38;5;124mDesktop\u001b[39m\u001b[38;5;124m\\\u001b[39m\u001b[38;5;124mANL\u001b[39m\u001b[38;5;124m\\\u001b[39m\u001b[38;5;124msr-tunnel.geojson\u001b[39m\u001b[38;5;124m\"\u001b[39m\n\u001b[0;32m      9\u001b[0m \u001b[38;5;66;03m# Build dataframes for each geojson file\u001b[39;00m\n\u001b[1;32m---> 10\u001b[0m buildings_df \u001b[38;5;241m=\u001b[39m \u001b[43mgpd\u001b[49m\u001b[38;5;241;43m.\u001b[39;49m\u001b[43mread_file\u001b[49m\u001b[43m(\u001b[49m\u001b[43mbuildings_path\u001b[49m\u001b[43m)\u001b[49m\n\u001b[0;32m     11\u001b[0m \u001b[38;5;66;03m# markers_df = gpd.read_file(markers_path)\u001b[39;00m\n\u001b[0;32m     12\u001b[0m triangle_df \u001b[38;5;241m=\u001b[39m gpd\u001b[38;5;241m.\u001b[39mread_file(triangle_path)\n",
      "File \u001b[1;32mC:\\Anaconda\\envs\\cory\\lib\\site-packages\\geopandas\\io\\file.py:201\u001b[0m, in \u001b[0;36m_read_file\u001b[1;34m(filename, bbox, mask, rows, **kwargs)\u001b[0m\n\u001b[0;32m    198\u001b[0m     reader \u001b[38;5;241m=\u001b[39m fiona\u001b[38;5;241m.\u001b[39mopen\n\u001b[0;32m    200\u001b[0m \u001b[38;5;28;01mwith\u001b[39;00m fiona_env():\n\u001b[1;32m--> 201\u001b[0m     \u001b[38;5;28;01mwith\u001b[39;00m reader(path_or_bytes, \u001b[38;5;241m*\u001b[39m\u001b[38;5;241m*\u001b[39mkwargs) \u001b[38;5;28;01mas\u001b[39;00m features:\n\u001b[0;32m    202\u001b[0m \n\u001b[0;32m    203\u001b[0m         \u001b[38;5;66;03m# In a future Fiona release the crs attribute of features will\u001b[39;00m\n\u001b[0;32m    204\u001b[0m         \u001b[38;5;66;03m# no longer be a dict, but will behave like a dict. So this should\u001b[39;00m\n\u001b[0;32m    205\u001b[0m         \u001b[38;5;66;03m# be forwards compatible\u001b[39;00m\n\u001b[0;32m    206\u001b[0m         crs \u001b[38;5;241m=\u001b[39m (\n\u001b[0;32m    207\u001b[0m             features\u001b[38;5;241m.\u001b[39mcrs[\u001b[38;5;124m\"\u001b[39m\u001b[38;5;124minit\u001b[39m\u001b[38;5;124m\"\u001b[39m]\n\u001b[0;32m    208\u001b[0m             \u001b[38;5;28;01mif\u001b[39;00m features\u001b[38;5;241m.\u001b[39mcrs \u001b[38;5;129;01mand\u001b[39;00m \u001b[38;5;124m\"\u001b[39m\u001b[38;5;124minit\u001b[39m\u001b[38;5;124m\"\u001b[39m \u001b[38;5;129;01min\u001b[39;00m features\u001b[38;5;241m.\u001b[39mcrs\n\u001b[0;32m    209\u001b[0m             \u001b[38;5;28;01melse\u001b[39;00m features\u001b[38;5;241m.\u001b[39mcrs_wkt\n\u001b[0;32m    210\u001b[0m         )\n\u001b[0;32m    212\u001b[0m         \u001b[38;5;66;03m# handle loading the bounding box\u001b[39;00m\n",
      "File \u001b[1;32mC:\\Anaconda\\envs\\cory\\lib\\site-packages\\fiona\\env.py:408\u001b[0m, in \u001b[0;36mensure_env_with_credentials.<locals>.wrapper\u001b[1;34m(*args, **kwargs)\u001b[0m\n\u001b[0;32m    405\u001b[0m \u001b[38;5;129m@wraps\u001b[39m(f)\n\u001b[0;32m    406\u001b[0m \u001b[38;5;28;01mdef\u001b[39;00m \u001b[38;5;21mwrapper\u001b[39m(\u001b[38;5;241m*\u001b[39margs, \u001b[38;5;241m*\u001b[39m\u001b[38;5;241m*\u001b[39mkwargs):\n\u001b[0;32m    407\u001b[0m     \u001b[38;5;28;01mif\u001b[39;00m local\u001b[38;5;241m.\u001b[39m_env:\n\u001b[1;32m--> 408\u001b[0m         \u001b[38;5;28;01mreturn\u001b[39;00m f(\u001b[38;5;241m*\u001b[39margs, \u001b[38;5;241m*\u001b[39m\u001b[38;5;241m*\u001b[39mkwargs)\n\u001b[0;32m    409\u001b[0m     \u001b[38;5;28;01melse\u001b[39;00m:\n\u001b[0;32m    410\u001b[0m         \u001b[38;5;28;01mif\u001b[39;00m \u001b[38;5;28misinstance\u001b[39m(args[\u001b[38;5;241m0\u001b[39m], \u001b[38;5;28mstr\u001b[39m):\n",
      "File \u001b[1;32mC:\\Anaconda\\envs\\cory\\lib\\site-packages\\fiona\\__init__.py:267\u001b[0m, in \u001b[0;36mopen\u001b[1;34m(fp, mode, driver, schema, crs, encoding, layer, vfs, enabled_drivers, crs_wkt, **kwargs)\u001b[0m\n\u001b[0;32m    264\u001b[0m     path \u001b[38;5;241m=\u001b[39m parse_path(fp)\n\u001b[0;32m    266\u001b[0m \u001b[38;5;28;01mif\u001b[39;00m mode \u001b[38;5;129;01min\u001b[39;00m (\u001b[38;5;124m'\u001b[39m\u001b[38;5;124ma\u001b[39m\u001b[38;5;124m'\u001b[39m, \u001b[38;5;124m'\u001b[39m\u001b[38;5;124mr\u001b[39m\u001b[38;5;124m'\u001b[39m):\n\u001b[1;32m--> 267\u001b[0m     c \u001b[38;5;241m=\u001b[39m Collection(path, mode, driver\u001b[38;5;241m=\u001b[39mdriver, encoding\u001b[38;5;241m=\u001b[39mencoding,\n\u001b[0;32m    268\u001b[0m                    layer\u001b[38;5;241m=\u001b[39mlayer, enabled_drivers\u001b[38;5;241m=\u001b[39menabled_drivers, \u001b[38;5;241m*\u001b[39m\u001b[38;5;241m*\u001b[39mkwargs)\n\u001b[0;32m    269\u001b[0m \u001b[38;5;28;01melif\u001b[39;00m mode \u001b[38;5;241m==\u001b[39m \u001b[38;5;124m'\u001b[39m\u001b[38;5;124mw\u001b[39m\u001b[38;5;124m'\u001b[39m:\n\u001b[0;32m    270\u001b[0m     \u001b[38;5;28;01mif\u001b[39;00m schema:\n\u001b[0;32m    271\u001b[0m         \u001b[38;5;66;03m# Make an ordered dict of schema properties.\u001b[39;00m\n",
      "File \u001b[1;32mC:\\Anaconda\\envs\\cory\\lib\\site-packages\\fiona\\collection.py:162\u001b[0m, in \u001b[0;36mCollection.__init__\u001b[1;34m(self, path, mode, driver, schema, crs, encoding, layer, vsi, archive, enabled_drivers, crs_wkt, ignore_fields, ignore_geometry, **kwargs)\u001b[0m\n\u001b[0;32m    160\u001b[0m \u001b[38;5;28;01mif\u001b[39;00m \u001b[38;5;28mself\u001b[39m\u001b[38;5;241m.\u001b[39mmode \u001b[38;5;241m==\u001b[39m \u001b[38;5;124m'\u001b[39m\u001b[38;5;124mr\u001b[39m\u001b[38;5;124m'\u001b[39m:\n\u001b[0;32m    161\u001b[0m     \u001b[38;5;28mself\u001b[39m\u001b[38;5;241m.\u001b[39msession \u001b[38;5;241m=\u001b[39m Session()\n\u001b[1;32m--> 162\u001b[0m     \u001b[38;5;28mself\u001b[39m\u001b[38;5;241m.\u001b[39msession\u001b[38;5;241m.\u001b[39mstart(\u001b[38;5;28mself\u001b[39m, \u001b[38;5;241m*\u001b[39m\u001b[38;5;241m*\u001b[39mkwargs)\n\u001b[0;32m    163\u001b[0m \u001b[38;5;28;01melif\u001b[39;00m \u001b[38;5;28mself\u001b[39m\u001b[38;5;241m.\u001b[39mmode \u001b[38;5;129;01min\u001b[39;00m (\u001b[38;5;124m'\u001b[39m\u001b[38;5;124ma\u001b[39m\u001b[38;5;124m'\u001b[39m, \u001b[38;5;124m'\u001b[39m\u001b[38;5;124mw\u001b[39m\u001b[38;5;124m'\u001b[39m):\n\u001b[0;32m    164\u001b[0m     \u001b[38;5;28mself\u001b[39m\u001b[38;5;241m.\u001b[39msession \u001b[38;5;241m=\u001b[39m WritingSession()\n",
      "File \u001b[1;32mfiona\\ogrext.pyx:540\u001b[0m, in \u001b[0;36mfiona.ogrext.Session.start\u001b[1;34m()\u001b[0m\n",
      "File \u001b[1;32mfiona\\_shim.pyx:90\u001b[0m, in \u001b[0;36mfiona._shim.gdal_open_vector\u001b[1;34m()\u001b[0m\n",
      "\u001b[1;31mDriverError\u001b[0m: C:\\Users\\Cory's PC\\Desktop\\ANL\\building-data.geojson: No such file or directory"
     ]
    }
   ],
   "source": [
    "# Read in local paths for geojson files\n",
    "buildings_path = r\"C:\\Users\\Cory's PC\\Desktop\\ANL\\aps-geoJson\\building-data.geojson\"\n",
    "markers_path = r\"C:\\Users\\Cory's PC\\Desktop\\ANL\\aps-geoJson\\aps-markers-test.geojson\"\n",
    "triangle_path = r\"C:\\Users\\Cory's PC\\Desktop\\ANL\\aps-geoJson\\map.geojson\"\n",
    "floor_path = r\"C:\\Users\\Cory's PC\\Desktop\\ANL\\aps-geoJson\\sr-tunnel.geojson\"\n",
    "sector_path = r\"C:\\Users\\Cory's PC\\Desktop\\ANL\\aps-geoJson\\exp-floor.geojson\"\n",
    "tunnel_path = r\"C:\\Users\\Cory's PC\\Desktop\\ANL\\aps-geoJson\\sr-tunnel.geojson\"\n",
    "\n",
    "# Build dataframes for each geojson file\n",
    "buildings_df = gpd.read_file(buildings_path)\n",
    "# markers_df = gpd.read_file(markers_path)\n",
    "triangle_df = gpd.read_file(triangle_path)\n",
    "floor_df = gpd.read_file(floor_path)\n",
    "sector_df = gpd.read_file(sector_path)\n",
    "tunnel_df = gpd.read_file(tunnel_path)\n",
    "# rotate_df = triangle_df.rotate(angle=10, origin=[-87.98813939094543, 41.703529775181615])"
   ]
  },
  {
   "cell_type": "code",
   "execution_count": null,
   "id": "e1028c2e",
   "metadata": {},
   "outputs": [],
   "source": [
    "# # Rotates sector accordingly, returns desired dataframe\n",
    "# def rotate_df(original_df, center_point, wedge_size, iter_num, total_angle):\n",
    "#     new_angle = iter_num * int(total_angle / wedge_size)\n",
    "#     new_df = original_df.rotate(angle=-7.5*(iter_num+1), origin=center_point)\n",
    "#     return new_df"
   ]
  },
  {
   "cell_type": "code",
   "execution_count": 5,
   "id": "f5099a04",
   "metadata": {
    "scrolled": true
   },
   "outputs": [
    {
     "ename": "FileNotFoundError",
     "evalue": "[Errno 2] No such file or directory: '/home/cory/aps-geoJson/building-data.geojson'",
     "output_type": "error",
     "traceback": [
      "\u001b[1;31m---------------------------------------------------------------------------\u001b[0m",
      "\u001b[1;31mFileNotFoundError\u001b[0m                         Traceback (most recent call last)",
      "Input \u001b[1;32mIn [5]\u001b[0m, in \u001b[0;36m<cell line: 2>\u001b[1;34m()\u001b[0m\n\u001b[0;32m      1\u001b[0m \u001b[38;5;66;03m# Add layers to map based off of each geojson file\u001b[39;00m\n\u001b[1;32m----> 2\u001b[0m building_data \u001b[38;5;241m=\u001b[39m \u001b[43mfolium\u001b[49m\u001b[38;5;241;43m.\u001b[39;49m\u001b[43mGeoJson\u001b[49m\u001b[43m(\u001b[49m\u001b[43mbuildings_path\u001b[49m\u001b[43m,\u001b[49m\u001b[43m \u001b[49m\u001b[43mname\u001b[49m\u001b[38;5;241;43m=\u001b[39;49m\u001b[38;5;124;43m'\u001b[39;49m\u001b[38;5;124;43mBuildings\u001b[39;49m\u001b[38;5;124;43m'\u001b[39;49m\u001b[43m)\u001b[49m\u001b[38;5;241m.\u001b[39madd_to(m)\n\u001b[0;32m      3\u001b[0m \u001b[38;5;66;03m# markers_data = folium.GeoJson(markers_path, name='Test Markers').add_to(m)\u001b[39;00m\n\u001b[0;32m      4\u001b[0m \u001b[38;5;66;03m# triangle_data = folium.GeoJson(triangle_df, name='test triangles').add_to(m)\u001b[39;00m\n\u001b[0;32m      5\u001b[0m \u001b[38;5;66;03m# folium.GeoJson(rotate_df, name='rotate triangle').add_to(triangle_data)\u001b[39;00m\n\u001b[0;32m      6\u001b[0m sector_data \u001b[38;5;241m=\u001b[39m folium\u001b[38;5;241m.\u001b[39mGeoJson(sector_df, name\u001b[38;5;241m=\u001b[39m\u001b[38;5;124m'\u001b[39m\u001b[38;5;124mSectors\u001b[39m\u001b[38;5;124m'\u001b[39m)\u001b[38;5;241m.\u001b[39madd_to(m)\n",
      "File \u001b[1;32mC:\\Anaconda\\envs\\cory\\lib\\site-packages\\folium\\features.py:499\u001b[0m, in \u001b[0;36mGeoJson.__init__\u001b[1;34m(self, data, style_function, highlight_function, name, overlay, control, show, smooth_factor, tooltip, embed, popup, zoom_on_click, marker)\u001b[0m\n\u001b[0;32m    496\u001b[0m         \u001b[38;5;28;01mraise\u001b[39;00m \u001b[38;5;167;01mTypeError\u001b[39;00m(\u001b[38;5;124m\"\u001b[39m\u001b[38;5;124mOnly Marker, Circle, and CircleMarker are supported as GeoJson marker types.\u001b[39m\u001b[38;5;124m\"\u001b[39m)\n\u001b[0;32m    497\u001b[0m \u001b[38;5;28mself\u001b[39m\u001b[38;5;241m.\u001b[39mmarker \u001b[38;5;241m=\u001b[39m marker\n\u001b[1;32m--> 499\u001b[0m \u001b[38;5;28mself\u001b[39m\u001b[38;5;241m.\u001b[39mdata \u001b[38;5;241m=\u001b[39m \u001b[38;5;28;43mself\u001b[39;49m\u001b[38;5;241;43m.\u001b[39;49m\u001b[43mprocess_data\u001b[49m\u001b[43m(\u001b[49m\u001b[43mdata\u001b[49m\u001b[43m)\u001b[49m\n\u001b[0;32m    501\u001b[0m \u001b[38;5;28;01mif\u001b[39;00m \u001b[38;5;28mself\u001b[39m\u001b[38;5;241m.\u001b[39mstyle \u001b[38;5;129;01mor\u001b[39;00m \u001b[38;5;28mself\u001b[39m\u001b[38;5;241m.\u001b[39mhighlight:\n\u001b[0;32m    502\u001b[0m     \u001b[38;5;28mself\u001b[39m\u001b[38;5;241m.\u001b[39mconvert_to_feature_collection()\n",
      "File \u001b[1;32mC:\\Anaconda\\envs\\cory\\lib\\site-packages\\folium\\features.py:536\u001b[0m, in \u001b[0;36mGeoJson.process_data\u001b[1;34m(self, data)\u001b[0m\n\u001b[0;32m    534\u001b[0m         \u001b[38;5;28;01mif\u001b[39;00m \u001b[38;5;129;01mnot\u001b[39;00m \u001b[38;5;28mself\u001b[39m\u001b[38;5;241m.\u001b[39membed:\n\u001b[0;32m    535\u001b[0m             \u001b[38;5;28mself\u001b[39m\u001b[38;5;241m.\u001b[39membed_link \u001b[38;5;241m=\u001b[39m data\n\u001b[1;32m--> 536\u001b[0m         \u001b[38;5;28;01mwith\u001b[39;00m \u001b[38;5;28;43mopen\u001b[39;49m\u001b[43m(\u001b[49m\u001b[43mdata\u001b[49m\u001b[43m)\u001b[49m \u001b[38;5;28;01mas\u001b[39;00m f:\n\u001b[0;32m    537\u001b[0m             \u001b[38;5;28;01mreturn\u001b[39;00m json\u001b[38;5;241m.\u001b[39mloads(f\u001b[38;5;241m.\u001b[39mread())\n\u001b[0;32m    538\u001b[0m \u001b[38;5;28;01melif\u001b[39;00m \u001b[38;5;28mhasattr\u001b[39m(data, \u001b[38;5;124m'\u001b[39m\u001b[38;5;124m__geo_interface__\u001b[39m\u001b[38;5;124m'\u001b[39m):\n",
      "\u001b[1;31mFileNotFoundError\u001b[0m: [Errno 2] No such file or directory: '/home/cory/aps-geoJson/building-data.geojson'"
     ]
    }
   ],
   "source": [
    "# Add layers to map based off of each geojson file\n",
    "building_data = folium.GeoJson(buildings_path, name='Buildings').add_to(m)\n",
    "# markers_data = folium.GeoJson(markers_path, name='Test Markers').add_to(m)\n",
    "# triangle_data = folium.GeoJson(triangle_df, name='test triangles').add_to(m)\n",
    "# folium.GeoJson(rotate_df, name='rotate triangle').add_to(triangle_data)\n",
    "sector_data = folium.GeoJson(sector_df, name='Sectors').add_to(m)\n",
    "tunnel_data = folium.GeoJson(tunnel_df, name='SR Tunnel').add_to(m)\n",
    "exp_floor_chplth = folium.Choropleth(\n",
    "    geo_data=sector_path,\n",
    "    data=sector_df.iloc[:,5:7],\n",
    "    columns=[\"sector\", \"percent\"],\n",
    "    key_on='feature.properties.sector',\n",
    "    fill_color=\"OrRd\",\n",
    "    fill_opacity=0.7,\n",
    "    line_opacity=0.2,\n",
    "    legend_name=\"Progress Percentage (%)\",\n",
    "    name=\"Experimental Floor (Choropleth)\"\n",
    ").add_to(m)\n",
    "# Having trouble accounting for curves of lat/long\n",
    "# num_sectors = 40\n",
    "# for index in range(num_sectors):\n",
    "#     rotated_df = rotate_df(original_df=sector_df, center_point=[-87.98811793327332, 41.70351776000208],\n",
    "#                            wedge_size=40, iter_num=index, total_angle=300)\n",
    "    \n",
    "#     folium.GeoJson(rotated_df).add_to(sector_data)"
   ]
  },
  {
   "cell_type": "code",
   "execution_count": null,
   "id": "b424bcbd",
   "metadata": {
    "scrolled": false
   },
   "outputs": [],
   "source": [
    "folium.GeoJsonTooltip(\n",
    "    fields=[\"location\", \"building\"]\n",
    ").add_to(building_data)\n",
    "# folium.GeoJsonTooltip(fields=[\"placement\"]).add_to(markers_data)\n",
    "\n",
    "folium.GeoJsonPopup(\n",
    "    fields=['url']\n",
    ").add_to(building_data)\n",
    "\n",
    "exp_floor_chplth.geojson.add_child(\n",
    "    folium.GeoJsonTooltip(fields=[\"sector\", \"percent\"])\n",
    ")\n",
    "\n",
    "folium.GeoJsonTooltip(\n",
    "    fields=[\"sector\", \"percent\"]\n",
    ").add_to(sector_data)\n",
    "# folium.GeoJsonPopup(fields=['url']).add_to(markers_data)\n",
    "# folium.GeoJsonPopup(\n",
    "#     fields=['test']\n",
    "# ).add_to(triangle_data)\n",
    "\n",
    "# print(sector_df)\n",
    "\n",
    "\n",
    "folium.LayerControl().add_to(m)\n",
    "\n",
    "# print(triangle_df)\n",
    "# print(\"stop\")\n",
    "# print(rotate_df)\n",
    "# cut_df = sector_df.iloc[:,5:7]\n",
    "# print(cut_df)\n",
    "m\n",
    "\n",
    "m.save(\"folium-test.html\")"
   ]
  },
  {
   "cell_type": "code",
   "execution_count": null,
   "id": "0e343088",
   "metadata": {},
   "outputs": [],
   "source": []
  },
  {
   "cell_type": "code",
   "execution_count": null,
   "id": "7bd45cdc",
   "metadata": {},
   "outputs": [],
   "source": []
  },
  {
   "cell_type": "code",
   "execution_count": null,
   "id": "315094ac",
   "metadata": {},
   "outputs": [],
   "source": []
  }
 ],
 "metadata": {
  "kernelspec": {
   "display_name": "Python 3 (ipykernel)",
   "language": "python",
   "name": "python3"
  },
  "language_info": {
   "codemirror_mode": {
    "name": "ipython",
    "version": 3
   },
   "file_extension": ".py",
   "mimetype": "text/x-python",
   "name": "python",
   "nbconvert_exporter": "python",
   "pygments_lexer": "ipython3",
   "version": "3.9.12"
  }
 },
 "nbformat": 4,
 "nbformat_minor": 5
}
